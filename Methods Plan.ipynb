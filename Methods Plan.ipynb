{
 "cells": [
  {
   "cell_type": "markdown",
   "id": "11349876-43c2-4aa4-9432-8e1dfe6d9e46",
   "metadata": {},
   "source": [
    "## Income Prediction Project\n",
    "\n",
    "### Data:\n",
    "\n",
    "The adult dataset collected by Barry Becker from the 1994 Census database. The dataset contains 48842 observations with some missing values. It contains 14 variables and the target variable. The variables included are as such:\n",
    "\n",
    "Exploratory Variables:\n",
    "- age (Integer): Age of person (>16)\n",
    "- workclass (Categorical): type of work (ex. self-employed, private, gov)\n",
    "- fnlwgt (Integer): final weight (the estimated amount of people represented by this instance)\n",
    "- education (Categorical): Education level\n",
    "- education-num (Integer): Education level in terms of numbers\n",
    "- marital-status (Categorical): Current marital status (ex. Married, divorced, widowed)\n",
    "- occupation (Categorical): Job title/industry\n",
    "- relationship (Categorical): relationships with family (ex. wife, husband, not-in-family, own-child, unmarried)\n",
    "- race (Categorical)\n",
    "- sex (Categorical)\n",
    "- capital-gain (Integer): an individual's capital gains\n",
    "- captial-loss (Integer): an individual's capitals losses\n",
    "- hours-per-week (Integer): hours worked per week (>0)\n",
    "- native-country (Categorical): country of origin\n",
    "<br><br>\n",
    "\n",
    "Response Variable:\n",
    "- income (Categorical): whether an individual makes more than 50K per year or less than 50K annually.\n"
   ]
  },
  {
   "cell_type": "markdown",
   "id": "731bd0b5-b409-4a1f-9ccb-e055c5a8b43e",
   "metadata": {},
   "source": [
    "### Question:\n",
    "\n",
    "How is time invested, age/experience, associated with income? This is the question we wish to explore in this project. We will create a model that predicts the binary label of income (>50K or <=50K/year) based on age, education level, hours per week, and marital-status.  The data will help us to train a logistic regression model to predict income of a person given their answers for the explanatory variables. By using age/hours worked per week as a proxy for experience, we will use these variable to explain how predicted income may change with these variables. Marital status may be somewhat connected to age so using this variable with an interaction term may help to make the predictions better. Finally education level is how we will judge 'time invested' into an industry. This question is focused on prediction to see if we are able to accurately predict the income based on our given explanatory variables. "
   ]
  },
  {
   "cell_type": "markdown",
   "id": "35e620db-16e6-4244-a720-0dfde9629c99",
   "metadata": {},
   "source": [
    "### Exploratory Data Analysis"
   ]
  },
  {
   "cell_type": "code",
   "execution_count": 2,
   "id": "0d5a3792-7b55-428d-91d0-d288bea68e66",
   "metadata": {},
   "outputs": [
    {
     "name": "stderr",
     "output_type": "stream",
     "text": [
      "Warning message:\n",
      "“package ‘dplyr’ was built under R version 4.3.2”\n",
      "Warning message:\n",
      "“package ‘stringr’ was built under R version 4.3.2”\n",
      "── \u001b[1mAttaching core tidyverse packages\u001b[22m ──────────────────────── tidyverse 2.0.0 ──\n",
      "\u001b[32m✔\u001b[39m \u001b[34mdplyr    \u001b[39m 1.1.4     \u001b[32m✔\u001b[39m \u001b[34mreadr    \u001b[39m 2.1.4\n",
      "\u001b[32m✔\u001b[39m \u001b[34mforcats  \u001b[39m 1.0.0     \u001b[32m✔\u001b[39m \u001b[34mstringr  \u001b[39m 1.5.1\n",
      "\u001b[32m✔\u001b[39m \u001b[34mggplot2  \u001b[39m 3.4.4     \u001b[32m✔\u001b[39m \u001b[34mtibble   \u001b[39m 3.2.1\n",
      "\u001b[32m✔\u001b[39m \u001b[34mlubridate\u001b[39m 1.9.3     \u001b[32m✔\u001b[39m \u001b[34mtidyr    \u001b[39m 1.3.0\n",
      "\u001b[32m✔\u001b[39m \u001b[34mpurrr    \u001b[39m 1.0.2     \n",
      "── \u001b[1mConflicts\u001b[22m ────────────────────────────────────────── tidyverse_conflicts() ──\n",
      "\u001b[31m✖\u001b[39m \u001b[34mdplyr\u001b[39m::\u001b[32mfilter()\u001b[39m masks \u001b[34mstats\u001b[39m::filter()\n",
      "\u001b[31m✖\u001b[39m \u001b[34mdplyr\u001b[39m::\u001b[32mlag()\u001b[39m    masks \u001b[34mstats\u001b[39m::lag()\n",
      "\u001b[36mℹ\u001b[39m Use the conflicted package (\u001b[3m\u001b[34m<http://conflicted.r-lib.org/>\u001b[39m\u001b[23m) to force all conflicts to become errors\n"
     ]
    }
   ],
   "source": [
    "# Import Packages\n",
    "library(tidyverse)\n",
    "library(repr)\n",
    "library(readr)\n",
    "library(broom)"
   ]
  },
  {
   "cell_type": "code",
   "execution_count": 14,
   "id": "7177f289-567b-48f6-b38e-833e3a3bfbfc",
   "metadata": {},
   "outputs": [
    {
     "name": "stderr",
     "output_type": "stream",
     "text": [
      "\u001b[1mRows: \u001b[22m\u001b[34m32560\u001b[39m \u001b[1mColumns: \u001b[22m\u001b[34m15\u001b[39m\n",
      "\u001b[36m──\u001b[39m \u001b[1mColumn specification\u001b[22m \u001b[36m────────────────────────────────────────────────────────\u001b[39m\n",
      "\u001b[1mDelimiter:\u001b[22m \",\"\n",
      "\u001b[31mchr\u001b[39m (9): State-gov, Bachelors, Never-married, Adm-clerical, Not-in-family, W...\n",
      "\u001b[32mdbl\u001b[39m (6): 39, 77516, 13, 2174, 0, 40\n",
      "\n",
      "\u001b[36mℹ\u001b[39m Use `spec()` to retrieve the full column specification for this data.\n",
      "\u001b[36mℹ\u001b[39m Specify the column types or set `show_col_types = FALSE` to quiet this message.\n",
      "\u001b[1m\u001b[22mNew names:\n",
      "\u001b[36m•\u001b[39m `0` -> `0...11`\n",
      "\u001b[36m•\u001b[39m `0` -> `0...12`\n",
      "\u001b[1mRows: \u001b[22m\u001b[34m16280\u001b[39m \u001b[1mColumns: \u001b[22m\u001b[34m15\u001b[39m\n",
      "\u001b[36m──\u001b[39m \u001b[1mColumn specification\u001b[22m \u001b[36m────────────────────────────────────────────────────────\u001b[39m\n",
      "\u001b[1mDelimiter:\u001b[22m \",\"\n",
      "\u001b[31mchr\u001b[39m (9): Private, 11th, Never-married, Machine-op-inspct, Own-child, Black, ...\n",
      "\u001b[32mdbl\u001b[39m (6): 25, 226802, 7, 0...11, 0...12, 40\n",
      "\n",
      "\u001b[36mℹ\u001b[39m Use `spec()` to retrieve the full column specification for this data.\n",
      "\u001b[36mℹ\u001b[39m Specify the column types or set `show_col_types = FALSE` to quiet this message.\n"
     ]
    },
    {
     "data": {
      "text/html": [
       "<table class=\"dataframe\">\n",
       "<caption>A tibble: 6 × 15</caption>\n",
       "<thead>\n",
       "\t<tr><th scope=col>age</th><th scope=col>workclass</th><th scope=col>fnlwgt</th><th scope=col>education</th><th scope=col>education_num</th><th scope=col>marital_status</th><th scope=col>occupation</th><th scope=col>relationship</th><th scope=col>race</th><th scope=col>sex</th><th scope=col>capital_gain</th><th scope=col>capital_loss</th><th scope=col>hours_per_week</th><th scope=col>native_country</th><th scope=col>income</th></tr>\n",
       "\t<tr><th scope=col>&lt;dbl&gt;</th><th scope=col>&lt;chr&gt;</th><th scope=col>&lt;dbl&gt;</th><th scope=col>&lt;chr&gt;</th><th scope=col>&lt;dbl&gt;</th><th scope=col>&lt;chr&gt;</th><th scope=col>&lt;chr&gt;</th><th scope=col>&lt;chr&gt;</th><th scope=col>&lt;chr&gt;</th><th scope=col>&lt;chr&gt;</th><th scope=col>&lt;dbl&gt;</th><th scope=col>&lt;dbl&gt;</th><th scope=col>&lt;dbl&gt;</th><th scope=col>&lt;chr&gt;</th><th scope=col>&lt;chr&gt;</th></tr>\n",
       "</thead>\n",
       "<tbody>\n",
       "\t<tr><td>50</td><td>Self-emp-not-inc</td><td> 83311</td><td>Bachelors</td><td>13</td><td><span style=white-space:pre-wrap>Married-civ-spouse   </span></td><td><span style=white-space:pre-wrap>Exec-managerial  </span></td><td><span style=white-space:pre-wrap>Husband      </span></td><td>White</td><td><span style=white-space:pre-wrap>Male  </span></td><td>0</td><td>0</td><td>13</td><td>United-States</td><td>&lt;=50K</td></tr>\n",
       "\t<tr><td>38</td><td><span style=white-space:pre-wrap>Private         </span></td><td>215646</td><td><span style=white-space:pre-wrap>HS-grad  </span></td><td> 9</td><td><span style=white-space:pre-wrap>Divorced             </span></td><td>Handlers-cleaners</td><td>Not-in-family</td><td>White</td><td><span style=white-space:pre-wrap>Male  </span></td><td>0</td><td>0</td><td>40</td><td>United-States</td><td>&lt;=50K</td></tr>\n",
       "\t<tr><td>53</td><td><span style=white-space:pre-wrap>Private         </span></td><td>234721</td><td><span style=white-space:pre-wrap>11th     </span></td><td> 7</td><td><span style=white-space:pre-wrap>Married-civ-spouse   </span></td><td>Handlers-cleaners</td><td><span style=white-space:pre-wrap>Husband      </span></td><td>Black</td><td><span style=white-space:pre-wrap>Male  </span></td><td>0</td><td>0</td><td>40</td><td>United-States</td><td>&lt;=50K</td></tr>\n",
       "\t<tr><td>28</td><td><span style=white-space:pre-wrap>Private         </span></td><td>338409</td><td>Bachelors</td><td>13</td><td><span style=white-space:pre-wrap>Married-civ-spouse   </span></td><td><span style=white-space:pre-wrap>Prof-specialty   </span></td><td><span style=white-space:pre-wrap>Wife         </span></td><td>Black</td><td>Female</td><td>0</td><td>0</td><td>40</td><td><span style=white-space:pre-wrap>Cuba         </span></td><td>&lt;=50K</td></tr>\n",
       "\t<tr><td>37</td><td><span style=white-space:pre-wrap>Private         </span></td><td>284582</td><td><span style=white-space:pre-wrap>Masters  </span></td><td>14</td><td><span style=white-space:pre-wrap>Married-civ-spouse   </span></td><td><span style=white-space:pre-wrap>Exec-managerial  </span></td><td><span style=white-space:pre-wrap>Wife         </span></td><td>White</td><td>Female</td><td>0</td><td>0</td><td>40</td><td>United-States</td><td>&lt;=50K</td></tr>\n",
       "\t<tr><td>49</td><td><span style=white-space:pre-wrap>Private         </span></td><td>160187</td><td><span style=white-space:pre-wrap>9th      </span></td><td> 5</td><td>Married-spouse-absent</td><td><span style=white-space:pre-wrap>Other-service    </span></td><td>Not-in-family</td><td>Black</td><td>Female</td><td>0</td><td>0</td><td>16</td><td><span style=white-space:pre-wrap>Jamaica      </span></td><td>&lt;=50K</td></tr>\n",
       "</tbody>\n",
       "</table>\n"
      ],
      "text/latex": [
       "A tibble: 6 × 15\n",
       "\\begin{tabular}{lllllllllllllll}\n",
       " age & workclass & fnlwgt & education & education\\_num & marital\\_status & occupation & relationship & race & sex & capital\\_gain & capital\\_loss & hours\\_per\\_week & native\\_country & income\\\\\n",
       " <dbl> & <chr> & <dbl> & <chr> & <dbl> & <chr> & <chr> & <chr> & <chr> & <chr> & <dbl> & <dbl> & <dbl> & <chr> & <chr>\\\\\n",
       "\\hline\n",
       "\t 50 & Self-emp-not-inc &  83311 & Bachelors & 13 & Married-civ-spouse    & Exec-managerial   & Husband       & White & Male   & 0 & 0 & 13 & United-States & <=50K\\\\\n",
       "\t 38 & Private          & 215646 & HS-grad   &  9 & Divorced              & Handlers-cleaners & Not-in-family & White & Male   & 0 & 0 & 40 & United-States & <=50K\\\\\n",
       "\t 53 & Private          & 234721 & 11th      &  7 & Married-civ-spouse    & Handlers-cleaners & Husband       & Black & Male   & 0 & 0 & 40 & United-States & <=50K\\\\\n",
       "\t 28 & Private          & 338409 & Bachelors & 13 & Married-civ-spouse    & Prof-specialty    & Wife          & Black & Female & 0 & 0 & 40 & Cuba          & <=50K\\\\\n",
       "\t 37 & Private          & 284582 & Masters   & 14 & Married-civ-spouse    & Exec-managerial   & Wife          & White & Female & 0 & 0 & 40 & United-States & <=50K\\\\\n",
       "\t 49 & Private          & 160187 & 9th       &  5 & Married-spouse-absent & Other-service     & Not-in-family & Black & Female & 0 & 0 & 16 & Jamaica       & <=50K\\\\\n",
       "\\end{tabular}\n"
      ],
      "text/markdown": [
       "\n",
       "A tibble: 6 × 15\n",
       "\n",
       "| age &lt;dbl&gt; | workclass &lt;chr&gt; | fnlwgt &lt;dbl&gt; | education &lt;chr&gt; | education_num &lt;dbl&gt; | marital_status &lt;chr&gt; | occupation &lt;chr&gt; | relationship &lt;chr&gt; | race &lt;chr&gt; | sex &lt;chr&gt; | capital_gain &lt;dbl&gt; | capital_loss &lt;dbl&gt; | hours_per_week &lt;dbl&gt; | native_country &lt;chr&gt; | income &lt;chr&gt; |\n",
       "|---|---|---|---|---|---|---|---|---|---|---|---|---|---|---|\n",
       "| 50 | Self-emp-not-inc |  83311 | Bachelors | 13 | Married-civ-spouse    | Exec-managerial   | Husband       | White | Male   | 0 | 0 | 13 | United-States | &lt;=50K |\n",
       "| 38 | Private          | 215646 | HS-grad   |  9 | Divorced              | Handlers-cleaners | Not-in-family | White | Male   | 0 | 0 | 40 | United-States | &lt;=50K |\n",
       "| 53 | Private          | 234721 | 11th      |  7 | Married-civ-spouse    | Handlers-cleaners | Husband       | Black | Male   | 0 | 0 | 40 | United-States | &lt;=50K |\n",
       "| 28 | Private          | 338409 | Bachelors | 13 | Married-civ-spouse    | Prof-specialty    | Wife          | Black | Female | 0 | 0 | 40 | Cuba          | &lt;=50K |\n",
       "| 37 | Private          | 284582 | Masters   | 14 | Married-civ-spouse    | Exec-managerial   | Wife          | White | Female | 0 | 0 | 40 | United-States | &lt;=50K |\n",
       "| 49 | Private          | 160187 | 9th       |  5 | Married-spouse-absent | Other-service     | Not-in-family | Black | Female | 0 | 0 | 16 | Jamaica       | &lt;=50K |\n",
       "\n"
      ],
      "text/plain": [
       "  age workclass        fnlwgt education education_num marital_status       \n",
       "1 50  Self-emp-not-inc  83311 Bachelors 13            Married-civ-spouse   \n",
       "2 38  Private          215646 HS-grad    9            Divorced             \n",
       "3 53  Private          234721 11th       7            Married-civ-spouse   \n",
       "4 28  Private          338409 Bachelors 13            Married-civ-spouse   \n",
       "5 37  Private          284582 Masters   14            Married-civ-spouse   \n",
       "6 49  Private          160187 9th        5            Married-spouse-absent\n",
       "  occupation        relationship  race  sex    capital_gain capital_loss\n",
       "1 Exec-managerial   Husband       White Male   0            0           \n",
       "2 Handlers-cleaners Not-in-family White Male   0            0           \n",
       "3 Handlers-cleaners Husband       Black Male   0            0           \n",
       "4 Prof-specialty    Wife          Black Female 0            0           \n",
       "5 Exec-managerial   Wife          White Female 0            0           \n",
       "6 Other-service     Not-in-family Black Female 0            0           \n",
       "  hours_per_week native_country income\n",
       "1 13             United-States  <=50K \n",
       "2 40             United-States  <=50K \n",
       "3 40             United-States  <=50K \n",
       "4 40             Cuba           <=50K \n",
       "5 40             United-States  <=50K \n",
       "6 16             Jamaica        <=50K "
      ]
     },
     "metadata": {},
     "output_type": "display_data"
    }
   ],
   "source": [
    "# Read data from web\n",
    "url <- \"https://archive.ics.uci.edu/static/public/2/adult.zip\"\n",
    "temp <- tempfile()\n",
    "download.file(url, temp)\n",
    "adult <- read_csv(unz(temp, \"adult.data\"))\n",
    "adult_test <- read_csv(unz(temp, \"adult.test\"), skip = 1)\n",
    "unlink(temp)\n",
    "\n",
    "# Apply column names\n",
    "colnames(adult) <- c(\"age\", \"workclass\", \"fnlwgt\", \"education\",\"education_num\",\n",
    "                     \"marital_status\", \"occupation\", \"relationship\", \"race\", \n",
    "                     \"sex\", \"capital_gain\", \"capital_loss\", \"hours_per_week\",\n",
    "                     \"native_country\", \"income\")\n",
    "\n",
    "colnames(adult_test) <- c(\"age\", \"workclass\", \"fnlwgt\", \"education\",\"education_num\",\n",
    "                     \"marital_status\", \"occupation\", \"relationship\", \"race\", \n",
    "                     \"sex\", \"capital_gain\", \"capital_loss\", \"hours_per_week\",\n",
    "                     \"native_country\", \"income\")\n",
    "head(adult)"
   ]
  },
  {
   "cell_type": "markdown",
   "id": "41f1254d-0852-49b1-92f5-1318302380f7",
   "metadata": {},
   "source": [
    "#### Data Cleaning\n",
    "\n",
    "To investigate the chosen question, we will be using the following variables to predict the response (income):\n",
    "- age\n",
    "- education\n",
    "- hours-per-week\n",
    "- marital-status\n",
    "\n",
    "Because our response is binary, we will also transform the column values from character to 0 and 1 where \n",
    "- 0 means income <=50K\n",
    "- 1 means income >50K\n",
    "\n",
    "Additionally, we should convert education and marital-status to factor variables. Additionally we will reduce the amount of factor levels for education in order to reduce model complexity. This is appropriate because for lower grade levels, there will be an insignificant difference between grade 4 and 5 education for example. We can group married into one category to generalize more easily. Grouping these categories also allowed for larger groups compared to the smaller ones that may be underrepresented in the model. After cleaning the data we can inspect the top 5 rows and view a summary of the columns."
   ]
  },
  {
   "cell_type": "code",
   "execution_count": 21,
   "id": "932fd2a0-aaf9-4d42-9b3f-b909fc3d31ef",
   "metadata": {},
   "outputs": [
    {
     "data": {
      "text/html": [
       "<table class=\"dataframe\">\n",
       "<caption>A tibble: 6 × 5</caption>\n",
       "<thead>\n",
       "\t<tr><th scope=col>age</th><th scope=col>education</th><th scope=col>hours_per_week</th><th scope=col>marital_status</th><th scope=col>income</th></tr>\n",
       "\t<tr><th scope=col>&lt;dbl&gt;</th><th scope=col>&lt;fct&gt;</th><th scope=col>&lt;dbl&gt;</th><th scope=col>&lt;fct&gt;</th><th scope=col>&lt;fct&gt;</th></tr>\n",
       "</thead>\n",
       "<tbody>\n",
       "\t<tr><td>50</td><td>Bachelors</td><td>13</td><td>Married </td><td>0</td></tr>\n",
       "\t<tr><td>38</td><td>HS-grad  </td><td>40</td><td>Divorced</td><td>0</td></tr>\n",
       "\t<tr><td>53</td><td>No-HS    </td><td>40</td><td>Married </td><td>0</td></tr>\n",
       "\t<tr><td>28</td><td>Bachelors</td><td>40</td><td>Married </td><td>0</td></tr>\n",
       "\t<tr><td>37</td><td>Masters  </td><td>40</td><td>Married </td><td>0</td></tr>\n",
       "\t<tr><td>49</td><td>No-HS    </td><td>16</td><td>Married </td><td>0</td></tr>\n",
       "</tbody>\n",
       "</table>\n"
      ],
      "text/latex": [
       "A tibble: 6 × 5\n",
       "\\begin{tabular}{lllll}\n",
       " age & education & hours\\_per\\_week & marital\\_status & income\\\\\n",
       " <dbl> & <fct> & <dbl> & <fct> & <fct>\\\\\n",
       "\\hline\n",
       "\t 50 & Bachelors & 13 & Married  & 0\\\\\n",
       "\t 38 & HS-grad   & 40 & Divorced & 0\\\\\n",
       "\t 53 & No-HS     & 40 & Married  & 0\\\\\n",
       "\t 28 & Bachelors & 40 & Married  & 0\\\\\n",
       "\t 37 & Masters   & 40 & Married  & 0\\\\\n",
       "\t 49 & No-HS     & 16 & Married  & 0\\\\\n",
       "\\end{tabular}\n"
      ],
      "text/markdown": [
       "\n",
       "A tibble: 6 × 5\n",
       "\n",
       "| age &lt;dbl&gt; | education &lt;fct&gt; | hours_per_week &lt;dbl&gt; | marital_status &lt;fct&gt; | income &lt;fct&gt; |\n",
       "|---|---|---|---|---|\n",
       "| 50 | Bachelors | 13 | Married  | 0 |\n",
       "| 38 | HS-grad   | 40 | Divorced | 0 |\n",
       "| 53 | No-HS     | 40 | Married  | 0 |\n",
       "| 28 | Bachelors | 40 | Married  | 0 |\n",
       "| 37 | Masters   | 40 | Married  | 0 |\n",
       "| 49 | No-HS     | 16 | Married  | 0 |\n",
       "\n"
      ],
      "text/plain": [
       "  age education hours_per_week marital_status income\n",
       "1 50  Bachelors 13             Married        0     \n",
       "2 38  HS-grad   40             Divorced       0     \n",
       "3 53  No-HS     40             Married        0     \n",
       "4 28  Bachelors 40             Married        0     \n",
       "5 37  Masters   40             Married        0     \n",
       "6 49  No-HS     16             Married        0     "
      ]
     },
     "metadata": {},
     "output_type": "display_data"
    },
    {
     "data": {
      "text/plain": [
       "      age               education     hours_per_week        marital_status \n",
       " Min.   :17.00   HS-grad     :10501   Min.   : 1.00   Divorced     : 4443  \n",
       " 1st Qu.:28.00   Some-college: 7291   1st Qu.:40.00   Married      :15417  \n",
       " Median :37.00   Bachelors   : 5354   Median :40.00   Never-married:10682  \n",
       " Mean   :38.58   No-HS       : 4253   Mean   :40.44   Separated    : 1025  \n",
       " 3rd Qu.:48.00   Associates  : 2449   3rd Qu.:45.00   Widowed      :  993  \n",
       " Max.   :90.00   Masters     : 1723   Max.   :99.00                        \n",
       "                 (Other)     :  989                                        \n",
       " income   \n",
       " 0:24719  \n",
       " 1: 7841  \n",
       "          \n",
       "          \n",
       "          \n",
       "          \n",
       "          "
      ]
     },
     "metadata": {},
     "output_type": "display_data"
    }
   ],
   "source": [
    "# Select chosen explanatory variables\n",
    "adult_clean <- adult %>% \n",
    "    select(\"age\", \"education\", \"hours_per_week\", \"marital_status\", \"income\")\n",
    "\n",
    "# Convert variables to factor\n",
    "adult_clean <- adult_clean %>% \n",
    "    mutate(income = recode(income, \n",
    "                           \"<=50K\" = \"0\",\n",
    "                           \">50K\" = \"1\")) %>%\n",
    "    mutate(education = recode(education, \n",
    "                           \"Preschool\" = \"No-HS\",\n",
    "                           \"1st-4th\" = \"No-HS\", \n",
    "                           \"5th-6th\" = \"No-HS\",\n",
    "                           \"7th-8th\" = \"No-HS\",\n",
    "                           \"9th\" = \"No-HS\",\n",
    "                           \"10th\" = \"No-HS\",\n",
    "                           \"11th\" = \"No-HS\",\n",
    "                           \"12th\" = \"No-HS\",\n",
    "                           \"Assoc-acdm\" = \"Associates\",\n",
    "                           \"Assoc-voc\" = \"Associates\")) %>% \n",
    "    mutate(marital_status = recode(marital_status,\n",
    "                                   \"Married-AF-spouse\" = \"Married\",\n",
    "                                   \"Married-civ-spouse\" = \"Married\",\n",
    "                                   \"Married-spouse-absent\" = \"Married\")) %>%\n",
    "    mutate(income = as.factor(income)) %>%\n",
    "    mutate(education = as.factor(education)) %>%\n",
    "    mutate(marital_status = as.factor(marital_status))\n",
    "\n",
    "# Select chosen explanatory variables\n",
    "adult_test_clean <- adult_test %>% \n",
    "    select(\"age\", \"education\", \"hours_per_week\", \"marital_status\", \"income\")\n",
    "\n",
    "# Convert variables to factor\n",
    "adult_test_clean <- adult_test_clean %>% \n",
    "    mutate(income = recode(income, \n",
    "                           \"<=50K.\" = \"0\",\n",
    "                           \">50K.\" = \"1\")) %>%\n",
    "    mutate(education = recode(education, \n",
    "                           \"Preschool\" = \"No-HS\",\n",
    "                           \"1st-4th\" = \"No-HS\", \n",
    "                           \"5th-6th\" = \"No-HS\",\n",
    "                           \"7th-8th\" = \"No-HS\",\n",
    "                           \"9th\" = \"No-HS\",\n",
    "                           \"10th\" = \"No-HS\",\n",
    "                           \"11th\" = \"No-HS\",\n",
    "                           \"12th\" = \"No-HS\",\n",
    "                           \"Assoc-acdm\" = \"Associates\",\n",
    "                           \"Assoc-voc\" = \"Associates\")) %>% \n",
    "    mutate(marital_status = recode(marital_status,\n",
    "                                   \"Married-AF-spouse\" = \"Married\",\n",
    "                                   \"Married-civ-spouse\" = \"Married\",\n",
    "                                   \"Married-spouse-absent\" = \"Married\")) %>%\n",
    "    mutate(income = as.factor(income)) %>%\n",
    "    mutate(education = as.factor(education)) %>%\n",
    "    mutate(marital_status = as.factor(marital_status))\n",
    "\n",
    "head(adult_clean)\n",
    "summary(adult_clean)"
   ]
  },
  {
   "cell_type": "code",
   "execution_count": 5,
   "id": "00bfb879-3ba3-4a91-999c-25e0ba99d43d",
   "metadata": {},
   "outputs": [
    {
     "name": "stderr",
     "output_type": "stream",
     "text": [
      "\u001b[1m\u001b[22m`stat_bin()` using `bins = 30`. Pick better value with `binwidth`.\n",
      "\u001b[1m\u001b[22m`stat_bin()` using `bins = 30`. Pick better value with `binwidth`.\n"
     ]
    },
    {
     "data": {
      "image/png": "[encoded data removed]",
      "text/plain": [
       "plot without title"
      ]
     },
     "metadata": {
      "image/png": {
       "height": 420,
       "width": 420
      }
     },
     "output_type": "display_data"
    },
    {
     "data": {
      "image/png": "[encoded data removed]",
      "text/plain": [
       "plot without title"
      ]
     },
     "metadata": {
      "image/png": {
       "height": 420,
       "width": 420
      }
     },
     "output_type": "display_data"
    }
   ],
   "source": [
    "age_dist <- ggplot(adult_clean) +\n",
    "                    geom_histogram(aes(age))\n",
    "hrly_dist <- ggplot(adult_clean) +\n",
    "                    geom_histogram(aes(hours_per_week))\n",
    "\n",
    "age_dist\n",
    "hrly_dist"
   ]
  },
  {
   "cell_type": "markdown",
   "id": "684f89b0-ebf2-4066-b9bb-998a950762a4",
   "metadata": {},
   "source": [
    "### Check the packaging & inspect top and bottom of data"
   ]
  },
  {
   "cell_type": "code",
   "execution_count": 6,
   "id": "55f1b348-8022-4a04-99f8-d8a667c19dbe",
   "metadata": {},
   "outputs": [
    {
     "name": "stdout",
     "output_type": "stream",
     "text": [
      "tibble [32,560 × 5] (S3: tbl_df/tbl/data.frame)\n",
      " $ age           : num [1:32560] 50 38 53 28 37 49 52 31 42 37 ...\n",
      " $ education     : Factor w/ 8 levels \"Associates\",\"Bachelors\",..: 2 4 6 2 5 6 4 5 2 8 ...\n",
      " $ hours_per_week: num [1:32560] 13 40 40 40 40 16 45 50 40 80 ...\n",
      " $ marital_status: Factor w/ 5 levels \"Divorced\",\"Married\",..: 2 1 2 2 2 2 2 3 2 2 ...\n",
      " $ income        : Factor w/ 2 levels \"0\",\"1\": 1 1 1 1 1 1 2 2 2 2 ...\n"
     ]
    }
   ],
   "source": [
    "str(adult_clean)"
   ]
  },
  {
   "cell_type": "code",
   "execution_count": 7,
   "id": "bf08dc44-b389-498d-8959-6807c74c4837",
   "metadata": {},
   "outputs": [
    {
     "data": {
      "text/html": [
       "<table class=\"dataframe\">\n",
       "<caption>A tibble: 6 × 5</caption>\n",
       "<thead>\n",
       "\t<tr><th scope=col>age</th><th scope=col>education</th><th scope=col>hours_per_week</th><th scope=col>marital_status</th><th scope=col>income</th></tr>\n",
       "\t<tr><th scope=col>&lt;dbl&gt;</th><th scope=col>&lt;fct&gt;</th><th scope=col>&lt;dbl&gt;</th><th scope=col>&lt;fct&gt;</th><th scope=col>&lt;fct&gt;</th></tr>\n",
       "</thead>\n",
       "<tbody>\n",
       "\t<tr><td>50</td><td>Bachelors</td><td>13</td><td>Married </td><td>0</td></tr>\n",
       "\t<tr><td>38</td><td>HS-grad  </td><td>40</td><td>Divorced</td><td>0</td></tr>\n",
       "\t<tr><td>53</td><td>No-HS    </td><td>40</td><td>Married </td><td>0</td></tr>\n",
       "\t<tr><td>28</td><td>Bachelors</td><td>40</td><td>Married </td><td>0</td></tr>\n",
       "\t<tr><td>37</td><td>Masters  </td><td>40</td><td>Married </td><td>0</td></tr>\n",
       "\t<tr><td>49</td><td>No-HS    </td><td>16</td><td>Married </td><td>0</td></tr>\n",
       "</tbody>\n",
       "</table>\n"
      ],
      "text/latex": [
       "A tibble: 6 × 5\n",
       "\\begin{tabular}{lllll}\n",
       " age & education & hours\\_per\\_week & marital\\_status & income\\\\\n",
       " <dbl> & <fct> & <dbl> & <fct> & <fct>\\\\\n",
       "\\hline\n",
       "\t 50 & Bachelors & 13 & Married  & 0\\\\\n",
       "\t 38 & HS-grad   & 40 & Divorced & 0\\\\\n",
       "\t 53 & No-HS     & 40 & Married  & 0\\\\\n",
       "\t 28 & Bachelors & 40 & Married  & 0\\\\\n",
       "\t 37 & Masters   & 40 & Married  & 0\\\\\n",
       "\t 49 & No-HS     & 16 & Married  & 0\\\\\n",
       "\\end{tabular}\n"
      ],
      "text/markdown": [
       "\n",
       "A tibble: 6 × 5\n",
       "\n",
       "| age &lt;dbl&gt; | education &lt;fct&gt; | hours_per_week &lt;dbl&gt; | marital_status &lt;fct&gt; | income &lt;fct&gt; |\n",
       "|---|---|---|---|---|\n",
       "| 50 | Bachelors | 13 | Married  | 0 |\n",
       "| 38 | HS-grad   | 40 | Divorced | 0 |\n",
       "| 53 | No-HS     | 40 | Married  | 0 |\n",
       "| 28 | Bachelors | 40 | Married  | 0 |\n",
       "| 37 | Masters   | 40 | Married  | 0 |\n",
       "| 49 | No-HS     | 16 | Married  | 0 |\n",
       "\n"
      ],
      "text/plain": [
       "  age education hours_per_week marital_status income\n",
       "1 50  Bachelors 13             Married        0     \n",
       "2 38  HS-grad   40             Divorced       0     \n",
       "3 53  No-HS     40             Married        0     \n",
       "4 28  Bachelors 40             Married        0     \n",
       "5 37  Masters   40             Married        0     \n",
       "6 49  No-HS     16             Married        0     "
      ]
     },
     "metadata": {},
     "output_type": "display_data"
    },
    {
     "data": {
      "text/html": [
       "<table class=\"dataframe\">\n",
       "<caption>A tibble: 6 × 5</caption>\n",
       "<thead>\n",
       "\t<tr><th scope=col>age</th><th scope=col>education</th><th scope=col>hours_per_week</th><th scope=col>marital_status</th><th scope=col>income</th></tr>\n",
       "\t<tr><th scope=col>&lt;dbl&gt;</th><th scope=col>&lt;fct&gt;</th><th scope=col>&lt;dbl&gt;</th><th scope=col>&lt;fct&gt;</th><th scope=col>&lt;fct&gt;</th></tr>\n",
       "</thead>\n",
       "<tbody>\n",
       "\t<tr><td>22</td><td>Some-college</td><td>40</td><td>Never-married</td><td>0</td></tr>\n",
       "\t<tr><td>27</td><td>Associates  </td><td>38</td><td>Married      </td><td>0</td></tr>\n",
       "\t<tr><td>40</td><td>HS-grad     </td><td>40</td><td>Married      </td><td>1</td></tr>\n",
       "\t<tr><td>58</td><td>HS-grad     </td><td>40</td><td>Widowed      </td><td>0</td></tr>\n",
       "\t<tr><td>22</td><td>HS-grad     </td><td>20</td><td>Never-married</td><td>0</td></tr>\n",
       "\t<tr><td>52</td><td>HS-grad     </td><td>40</td><td>Married      </td><td>1</td></tr>\n",
       "</tbody>\n",
       "</table>\n"
      ],
      "text/latex": [
       "A tibble: 6 × 5\n",
       "\\begin{tabular}{lllll}\n",
       " age & education & hours\\_per\\_week & marital\\_status & income\\\\\n",
       " <dbl> & <fct> & <dbl> & <fct> & <fct>\\\\\n",
       "\\hline\n",
       "\t 22 & Some-college & 40 & Never-married & 0\\\\\n",
       "\t 27 & Associates   & 38 & Married       & 0\\\\\n",
       "\t 40 & HS-grad      & 40 & Married       & 1\\\\\n",
       "\t 58 & HS-grad      & 40 & Widowed       & 0\\\\\n",
       "\t 22 & HS-grad      & 20 & Never-married & 0\\\\\n",
       "\t 52 & HS-grad      & 40 & Married       & 1\\\\\n",
       "\\end{tabular}\n"
      ],
      "text/markdown": [
       "\n",
       "A tibble: 6 × 5\n",
       "\n",
       "| age &lt;dbl&gt; | education &lt;fct&gt; | hours_per_week &lt;dbl&gt; | marital_status &lt;fct&gt; | income &lt;fct&gt; |\n",
       "|---|---|---|---|---|\n",
       "| 22 | Some-college | 40 | Never-married | 0 |\n",
       "| 27 | Associates   | 38 | Married       | 0 |\n",
       "| 40 | HS-grad      | 40 | Married       | 1 |\n",
       "| 58 | HS-grad      | 40 | Widowed       | 0 |\n",
       "| 22 | HS-grad      | 20 | Never-married | 0 |\n",
       "| 52 | HS-grad      | 40 | Married       | 1 |\n",
       "\n"
      ],
      "text/plain": [
       "  age education    hours_per_week marital_status income\n",
       "1 22  Some-college 40             Never-married  0     \n",
       "2 27  Associates   38             Married        0     \n",
       "3 40  HS-grad      40             Married        1     \n",
       "4 58  HS-grad      40             Widowed        0     \n",
       "5 22  HS-grad      20             Never-married  0     \n",
       "6 52  HS-grad      40             Married        1     "
      ]
     },
     "metadata": {},
     "output_type": "display_data"
    }
   ],
   "source": [
    "head(adult_clean)\n",
    "tail(adult_clean)"
   ]
  },
  {
   "cell_type": "markdown",
   "id": "a801f249-6a11-4d14-9335-fb15c4f65cd4",
   "metadata": {},
   "source": [
    "While inspecting the histograms and data instances, we can see that age is right-skewed and people tend to be younger than 50. While for hours_per_week, most of the data is set at 40 hours per weak, with very thin tails."
   ]
  },
  {
   "cell_type": "markdown",
   "id": "90bc1d35-f15e-432a-b89c-de6c78e78057",
   "metadata": {},
   "source": [
    "### Visualization\n",
    "Considering societal expectations and industry trends, we would expect that as age increases, income will be greater. Additionally based on education level, we expect that as people gain higher levels of education, their income will increase. Therefore side by side boxplots comparing ages of different education levels based on income will help to see any underlying trends within the data. "
   ]
  },
  {
   "cell_type": "code",
   "execution_count": 8,
   "id": "f734712c-7ae8-4c44-a551-121cc0ecfe64",
   "metadata": {},
   "outputs": [
    {
     "data": {
      "image/png": "[encoded data removed]",
      "text/plain": [
       "plot without title"
      ]
     },
     "metadata": {
      "image/png": {
       "height": 600,
       "width": 600
      }
     },
     "output_type": "display_data"
    }
   ],
   "source": [
    "options(repr.plot.width = 10, repr.plot.height =10)\n",
    "\n",
    "boxplot <- ggplot(adult_clean, aes(education, age, fill = income)) +\n",
    "                geom_boxplot() +\n",
    "                ggtitle(\"Boxplots of Age vs Education based on Income\") +\n",
    "                labs(x = \"Education Level\", y = \"Age\")\n",
    "boxplot    "
   ]
  },
  {
   "cell_type": "markdown",
   "id": "3cf0ec74-9b8e-4971-8363-89720036318f",
   "metadata": {},
   "source": [
    "This plot demonstrates that at different levels of education there is some amount of association between age and income. We can see that the ages of those in the higher income category is generally greater than those in the lower income category (i.e. blue bars are higher than red bars). The variances of the age for high income category is generally smaller than the lower income category. It is hard to determine from these boxplots whether there is a significant difference between different education level. There are some visual similarities, such as associates and bachelors degrees. This visualization helps to show the difference in ages based on income at different education levels, showing that there is some association between the variables that we can show in a linear model. We may be able to correctly predict income with additional variables, because the spread for each boxplot is not within others. There is some overlap however which may cause some problems, by using other variables, we can train the model to improve the prediction accuracy."
   ]
  },
  {
   "cell_type": "markdown",
   "id": "c52eaf1b-cf79-47dd-936e-8206b759a158",
   "metadata": {},
   "source": [
    "### Methods and Plan"
   ]
  },
  {
   "cell_type": "markdown",
   "id": "fbaa80e8-fccd-4d12-96e5-73ddd679cbdf",
   "metadata": {},
   "source": [
    "Because we are dealing with a binary response variable, we should consider modelling this data with a classifier model. The classifier we have decided to implement is a logistic regression model. This is an appropriate method because it allows us to use both our numerical and categorical variables. Additionally, it is an interpretable model because of its somewhat linear equation which allows us to clearly identify which variables are have the most influence on the prediction. We can also view uncertainty within the model by viewing the probability and can therefore be more or less confident with our predictions. For logistic regression, we must make standard assumptions such as independence of observations and large sample size. There are additional assumptions we must make about the model including little to no multicollinearity between our variables and linearity of regressor variables and log odds. If the model does not satisfy these assumptions then the model may not correctly predict the target variable. A potential limitation of this type of classifier is that the decision boundary that logistic regression calculates is linear, which means it cannot correctly preidct the target variable with a complex decision boundary. "
   ]
  },
  {
   "cell_type": "markdown",
   "id": "6a04917b-f62e-48d8-bed1-bcd9d10a86f8",
   "metadata": {},
   "source": [
    "### Implementation of a proposed model"
   ]
  },
  {
   "cell_type": "code",
   "execution_count": 9,
   "id": "a34d29f9-802c-4de8-9294-aae43db285ea",
   "metadata": {},
   "outputs": [],
   "source": [
    "model <- glm(income ~., data = adult_clean, family = \"binomial\")"
   ]
  },
  {
   "cell_type": "code",
   "execution_count": 10,
   "id": "014606fd-9204-4054-a34c-3bb3225e971f",
   "metadata": {},
   "outputs": [
    {
     "data": {
      "text/html": [
       "<table class=\"dataframe\">\n",
       "<caption>A tibble: 14 × 5</caption>\n",
       "<thead>\n",
       "\t<tr><th scope=col>term</th><th scope=col>estimate</th><th scope=col>std.error</th><th scope=col>statistic</th><th scope=col>p.value</th></tr>\n",
       "\t<tr><th scope=col>&lt;chr&gt;</th><th scope=col>&lt;dbl&gt;</th><th scope=col>&lt;dbl&gt;</th><th scope=col>&lt;dbl&gt;</th><th scope=col>&lt;dbl&gt;</th></tr>\n",
       "</thead>\n",
       "<tbody>\n",
       "\t<tr><td>(Intercept)                </td><td>-4.77307786</td><td>0.116908117</td><td>-40.8276001</td><td> 0.000000e+00</td></tr>\n",
       "\t<tr><td>age                        </td><td> 0.02789118</td><td>0.001412194</td><td> 19.7502432</td><td> 7.983250e-87</td></tr>\n",
       "\t<tr><td>educationBachelors         </td><td> 0.80087543</td><td>0.062893718</td><td> 12.7337906</td><td> 3.837464e-37</td></tr>\n",
       "\t<tr><td>educationDoctorate         </td><td> 1.86879745</td><td>0.143641226</td><td> 13.0101747</td><td> 1.070969e-38</td></tr>\n",
       "\t<tr><td>educationHS-grad           </td><td>-0.76163640</td><td>0.060599798</td><td>-12.5682993</td><td> 3.154363e-36</td></tr>\n",
       "\t<tr><td>educationMasters           </td><td> 1.25874049</td><td>0.079395877</td><td> 15.8539780</td><td> 1.319568e-56</td></tr>\n",
       "\t<tr><td>educationNo-HS             </td><td>-1.95898583</td><td>0.087812282</td><td>-22.3087908</td><td>3.035921e-110</td></tr>\n",
       "\t<tr><td>educationProf-school       </td><td> 1.86352817</td><td>0.124404581</td><td> 14.9795784</td><td> 9.984847e-51</td></tr>\n",
       "\t<tr><td>educationSome-college      </td><td>-0.25684465</td><td>0.063055787</td><td> -4.0732922</td><td> 4.635321e-05</td></tr>\n",
       "\t<tr><td>hours_per_week             </td><td> 0.03330046</td><td>0.001388148</td><td> 23.9891313</td><td>3.610961e-127</td></tr>\n",
       "\t<tr><td>marital_statusMarried      </td><td> 2.03565840</td><td>0.056080290</td><td> 36.2989993</td><td>1.677816e-288</td></tr>\n",
       "\t<tr><td>marital_statusNever-married</td><td>-0.52231153</td><td>0.073611387</td><td> -7.0955262</td><td> 1.288602e-12</td></tr>\n",
       "\t<tr><td>marital_statusSeparated    </td><td>-0.17122018</td><td>0.143688225</td><td> -1.1916090</td><td> 2.334146e-01</td></tr>\n",
       "\t<tr><td>marital_statusWidowed      </td><td>-0.12485328</td><td>0.133207623</td><td> -0.9372833</td><td> 3.486128e-01</td></tr>\n",
       "</tbody>\n",
       "</table>\n"
      ],
      "text/latex": [
       "A tibble: 14 × 5\n",
       "\\begin{tabular}{lllll}\n",
       " term & estimate & std.error & statistic & p.value\\\\\n",
       " <chr> & <dbl> & <dbl> & <dbl> & <dbl>\\\\\n",
       "\\hline\n",
       "\t (Intercept)                 & -4.77307786 & 0.116908117 & -40.8276001 &  0.000000e+00\\\\\n",
       "\t age                         &  0.02789118 & 0.001412194 &  19.7502432 &  7.983250e-87\\\\\n",
       "\t educationBachelors          &  0.80087543 & 0.062893718 &  12.7337906 &  3.837464e-37\\\\\n",
       "\t educationDoctorate          &  1.86879745 & 0.143641226 &  13.0101747 &  1.070969e-38\\\\\n",
       "\t educationHS-grad            & -0.76163640 & 0.060599798 & -12.5682993 &  3.154363e-36\\\\\n",
       "\t educationMasters            &  1.25874049 & 0.079395877 &  15.8539780 &  1.319568e-56\\\\\n",
       "\t educationNo-HS              & -1.95898583 & 0.087812282 & -22.3087908 & 3.035921e-110\\\\\n",
       "\t educationProf-school        &  1.86352817 & 0.124404581 &  14.9795784 &  9.984847e-51\\\\\n",
       "\t educationSome-college       & -0.25684465 & 0.063055787 &  -4.0732922 &  4.635321e-05\\\\\n",
       "\t hours\\_per\\_week              &  0.03330046 & 0.001388148 &  23.9891313 & 3.610961e-127\\\\\n",
       "\t marital\\_statusMarried       &  2.03565840 & 0.056080290 &  36.2989993 & 1.677816e-288\\\\\n",
       "\t marital\\_statusNever-married & -0.52231153 & 0.073611387 &  -7.0955262 &  1.288602e-12\\\\\n",
       "\t marital\\_statusSeparated     & -0.17122018 & 0.143688225 &  -1.1916090 &  2.334146e-01\\\\\n",
       "\t marital\\_statusWidowed       & -0.12485328 & 0.133207623 &  -0.9372833 &  3.486128e-01\\\\\n",
       "\\end{tabular}\n"
      ],
      "text/markdown": [
       "\n",
       "A tibble: 14 × 5\n",
       "\n",
       "| term &lt;chr&gt; | estimate &lt;dbl&gt; | std.error &lt;dbl&gt; | statistic &lt;dbl&gt; | p.value &lt;dbl&gt; |\n",
       "|---|---|---|---|---|\n",
       "| (Intercept)                 | -4.77307786 | 0.116908117 | -40.8276001 |  0.000000e+00 |\n",
       "| age                         |  0.02789118 | 0.001412194 |  19.7502432 |  7.983250e-87 |\n",
       "| educationBachelors          |  0.80087543 | 0.062893718 |  12.7337906 |  3.837464e-37 |\n",
       "| educationDoctorate          |  1.86879745 | 0.143641226 |  13.0101747 |  1.070969e-38 |\n",
       "| educationHS-grad            | -0.76163640 | 0.060599798 | -12.5682993 |  3.154363e-36 |\n",
       "| educationMasters            |  1.25874049 | 0.079395877 |  15.8539780 |  1.319568e-56 |\n",
       "| educationNo-HS              | -1.95898583 | 0.087812282 | -22.3087908 | 3.035921e-110 |\n",
       "| educationProf-school        |  1.86352817 | 0.124404581 |  14.9795784 |  9.984847e-51 |\n",
       "| educationSome-college       | -0.25684465 | 0.063055787 |  -4.0732922 |  4.635321e-05 |\n",
       "| hours_per_week              |  0.03330046 | 0.001388148 |  23.9891313 | 3.610961e-127 |\n",
       "| marital_statusMarried       |  2.03565840 | 0.056080290 |  36.2989993 | 1.677816e-288 |\n",
       "| marital_statusNever-married | -0.52231153 | 0.073611387 |  -7.0955262 |  1.288602e-12 |\n",
       "| marital_statusSeparated     | -0.17122018 | 0.143688225 |  -1.1916090 |  2.334146e-01 |\n",
       "| marital_statusWidowed       | -0.12485328 | 0.133207623 |  -0.9372833 |  3.486128e-01 |\n",
       "\n"
      ],
      "text/plain": [
       "   term                        estimate    std.error   statistic  \n",
       "1  (Intercept)                 -4.77307786 0.116908117 -40.8276001\n",
       "2  age                          0.02789118 0.001412194  19.7502432\n",
       "3  educationBachelors           0.80087543 0.062893718  12.7337906\n",
       "4  educationDoctorate           1.86879745 0.143641226  13.0101747\n",
       "5  educationHS-grad            -0.76163640 0.060599798 -12.5682993\n",
       "6  educationMasters             1.25874049 0.079395877  15.8539780\n",
       "7  educationNo-HS              -1.95898583 0.087812282 -22.3087908\n",
       "8  educationProf-school         1.86352817 0.124404581  14.9795784\n",
       "9  educationSome-college       -0.25684465 0.063055787  -4.0732922\n",
       "10 hours_per_week               0.03330046 0.001388148  23.9891313\n",
       "11 marital_statusMarried        2.03565840 0.056080290  36.2989993\n",
       "12 marital_statusNever-married -0.52231153 0.073611387  -7.0955262\n",
       "13 marital_statusSeparated     -0.17122018 0.143688225  -1.1916090\n",
       "14 marital_statusWidowed       -0.12485328 0.133207623  -0.9372833\n",
       "   p.value      \n",
       "1   0.000000e+00\n",
       "2   7.983250e-87\n",
       "3   3.837464e-37\n",
       "4   1.070969e-38\n",
       "5   3.154363e-36\n",
       "6   1.319568e-56\n",
       "7  3.035921e-110\n",
       "8   9.984847e-51\n",
       "9   4.635321e-05\n",
       "10 3.610961e-127\n",
       "11 1.677816e-288\n",
       "12  1.288602e-12\n",
       "13  2.334146e-01\n",
       "14  3.486128e-01"
      ]
     },
     "metadata": {},
     "output_type": "display_data"
    }
   ],
   "source": [
    "tidy(model)"
   ]
  },
  {
   "cell_type": "code",
   "execution_count": 38,
   "id": "bb6987b4-004e-4791-9b70-389bea9ec210",
   "metadata": {},
   "outputs": [
    {
     "name": "stderr",
     "output_type": "stream",
     "text": [
      "Warning message:\n",
      "“'tidy.numeric' is deprecated.\n",
      "See help(\"Deprecated\")”\n"
     ]
    },
    {
     "data": {
      "text/html": [
       "<table class=\"dataframe\">\n",
       "<caption>A tibble: 6 × 2</caption>\n",
       "<thead>\n",
       "\t<tr><th scope=col>names</th><th scope=col>x</th></tr>\n",
       "\t<tr><th scope=col>&lt;chr&gt;</th><th scope=col>&lt;dbl&gt;</th></tr>\n",
       "</thead>\n",
       "<tbody>\n",
       "\t<tr><td>1</td><td>0.315578161</td></tr>\n",
       "\t<tr><td>2</td><td>0.348770488</td></tr>\n",
       "\t<tr><td>3</td><td>0.392924948</td></tr>\n",
       "\t<tr><td>4</td><td>0.017104201</td></tr>\n",
       "\t<tr><td>5</td><td>0.004932025</td></tr>\n",
       "\t<tr><td>6</td><td>0.019528413</td></tr>\n",
       "</tbody>\n",
       "</table>\n"
      ],
      "text/latex": [
       "A tibble: 6 × 2\n",
       "\\begin{tabular}{ll}\n",
       " names & x\\\\\n",
       " <chr> & <dbl>\\\\\n",
       "\\hline\n",
       "\t 1 & 0.315578161\\\\\n",
       "\t 2 & 0.348770488\\\\\n",
       "\t 3 & 0.392924948\\\\\n",
       "\t 4 & 0.017104201\\\\\n",
       "\t 5 & 0.004932025\\\\\n",
       "\t 6 & 0.019528413\\\\\n",
       "\\end{tabular}\n"
      ],
      "text/markdown": [
       "\n",
       "A tibble: 6 × 2\n",
       "\n",
       "| names &lt;chr&gt; | x &lt;dbl&gt; |\n",
       "|---|---|\n",
       "| 1 | 0.315578161 |\n",
       "| 2 | 0.348770488 |\n",
       "| 3 | 0.392924948 |\n",
       "| 4 | 0.017104201 |\n",
       "| 5 | 0.004932025 |\n",
       "| 6 | 0.019528413 |\n",
       "\n"
      ],
      "text/plain": [
       "  names x          \n",
       "1 1     0.315578161\n",
       "2 2     0.348770488\n",
       "3 3     0.392924948\n",
       "4 4     0.017104201\n",
       "5 5     0.004932025\n",
       "6 6     0.019528413"
      ]
     },
     "metadata": {},
     "output_type": "display_data"
    }
   ],
   "source": [
    "preds <- predict(model, adult_test_clean, type = \"response\")\n",
    "head(tidy(preds))"
   ]
  },
  {
   "cell_type": "code",
   "execution_count": 43,
   "id": "4268f6c9-21d7-4e5b-ab42-2c22c58d0fb6",
   "metadata": {},
   "outputs": [
    {
     "data": {
      "text/html": [
       "<table class=\"dataframe\">\n",
       "<caption>A tibble: 10 × 2</caption>\n",
       "<thead>\n",
       "\t<tr><th scope=col>preds</th><th scope=col>adult_test_clean$income</th></tr>\n",
       "\t<tr><th scope=col>&lt;dbl&gt;</th><th scope=col>&lt;fct&gt;</th></tr>\n",
       "</thead>\n",
       "<tbody>\n",
       "\t<tr><td>0.315578161</td><td>0</td></tr>\n",
       "\t<tr><td>0.348770488</td><td>1</td></tr>\n",
       "\t<tr><td>0.392924948</td><td>1</td></tr>\n",
       "\t<tr><td>0.017104201</td><td>0</td></tr>\n",
       "\t<tr><td>0.004932025</td><td>0</td></tr>\n",
       "\t<tr><td>0.019528413</td><td>0</td></tr>\n",
       "\t<tr><td>0.875323133</td><td>1</td></tr>\n",
       "\t<tr><td>0.027900126</td><td>0</td></tr>\n",
       "\t<tr><td>0.055756728</td><td>0</td></tr>\n",
       "\t<tr><td>0.412385930</td><td>1</td></tr>\n",
       "</tbody>\n",
       "</table>\n"
      ],
      "text/latex": [
       "A tibble: 10 × 2\n",
       "\\begin{tabular}{ll}\n",
       " preds & adult\\_test\\_clean\\$income\\\\\n",
       " <dbl> & <fct>\\\\\n",
       "\\hline\n",
       "\t 0.315578161 & 0\\\\\n",
       "\t 0.348770488 & 1\\\\\n",
       "\t 0.392924948 & 1\\\\\n",
       "\t 0.017104201 & 0\\\\\n",
       "\t 0.004932025 & 0\\\\\n",
       "\t 0.019528413 & 0\\\\\n",
       "\t 0.875323133 & 1\\\\\n",
       "\t 0.027900126 & 0\\\\\n",
       "\t 0.055756728 & 0\\\\\n",
       "\t 0.412385930 & 1\\\\\n",
       "\\end{tabular}\n"
      ],
      "text/markdown": [
       "\n",
       "A tibble: 10 × 2\n",
       "\n",
       "| preds &lt;dbl&gt; | adult_test_clean$income &lt;fct&gt; |\n",
       "|---|---|\n",
       "| 0.315578161 | 0 |\n",
       "| 0.348770488 | 1 |\n",
       "| 0.392924948 | 1 |\n",
       "| 0.017104201 | 0 |\n",
       "| 0.004932025 | 0 |\n",
       "| 0.019528413 | 0 |\n",
       "| 0.875323133 | 1 |\n",
       "| 0.027900126 | 0 |\n",
       "| 0.055756728 | 0 |\n",
       "| 0.412385930 | 1 |\n",
       "\n"
      ],
      "text/plain": [
       "   preds       adult_test_clean$income\n",
       "1  0.315578161 0                      \n",
       "2  0.348770488 1                      \n",
       "3  0.392924948 1                      \n",
       "4  0.017104201 0                      \n",
       "5  0.004932025 0                      \n",
       "6  0.019528413 0                      \n",
       "7  0.875323133 1                      \n",
       "8  0.027900126 0                      \n",
       "9  0.055756728 0                      \n",
       "10 0.412385930 1                      "
      ]
     },
     "metadata": {},
     "output_type": "display_data"
    }
   ],
   "source": [
    "head(tibble(preds, adult_test_clean$income), 10)"
   ]
  },
  {
   "cell_type": "code",
   "execution_count": null,
   "id": "d5b38876-6c83-4baa-9f38-9d1e2978f30e",
   "metadata": {},
   "outputs": [],
   "source": []
  }
 ],
 "metadata": {
  "kernelspec": {
   "display_name": "R",
   "language": "R",
   "name": "ir"
  },
  "language_info": {
   "codemirror_mode": "r",
   "file_extension": ".r",
   "mimetype": "text/x-r-source",
   "name": "R",
   "pygments_lexer": "r",
   "version": "4.3.1"
  }
 },
 "nbformat": 4,
 "nbformat_minor": 5
}
