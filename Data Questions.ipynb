{
 "cells": [
  {
   "cell_type": "markdown",
   "id": "0916a6f3-d37b-4a03-9361-3c7035030a39",
   "metadata": {},
   "source": [
    "## Data and Questions\n",
    "\n",
    "### Data:\n",
    "\n",
    "The adult dataset collected by Barry Becker from the 1994 Census database. The dataset contains 48842 observations with some missing values. It contains 14 variables and the target variable. The variables included are as such:\n",
    "\n",
    "- Exploratory Variables:\n",
    "  -   age (Integer): Age of person (>16)\n",
    "    - workclass (Categorical): type of work (ex. self-employed, private, gov)\n",
    "    - fnlwgt (Integer): final weight (the estimated amount of people represented by this instance)\n",
    "    - education (Categorical): Education level\n",
    "    - education-num (Integer): Education level in terms of numbers\n",
    "    - marital-status (Categorical): Current marital status (ex. Married, divorced, widowed)\n",
    "    - occupation (Categorical): Job title/industry\n",
    "    - relationship (Categorical): relationships with family (ex. wife, husband, not-in-family, own-child, unmarried)\n",
    "    - race (Categorical)\n",
    "    - sex (Categorical)\n",
    "    - capital-gain (Integer): an individual's capital gains\n",
    "    - captial-loss (Integer): an individual's capitals losses\n",
    "    - hours-per-week (Integer): hours worked per week (>0)\n",
    "    - native-country (Categorical): country of origin\n"
   ]
  },
  {
   "cell_type": "markdown",
   "id": "a35dec5d-0eb4-41d2-a7a7-e5b119b6d45a",
   "metadata": {},
   "source": [
    "Response Variable\n",
    "- income (Categorical): whether an individual makes more than 50K per year or less than 50K annually.\n"
   ]
  },
  {
   "cell_type": "markdown",
   "id": "e777197c-8507-466d-946e-f71c0c3ee7ab",
   "metadata": {},
   "source": [
    "### Question:\n",
    "\n",
    "How is time invested, age/experience, associated with income? This is the question we wish to explore in this project. We will create a model that predicts the binary label of income (>50K or <=50K/year) based on age, education level, hours per week, and marital-status.  The data will help us to train a logistic regression model to predict income of a person given their answers for the explanatory variables. By using age/hours worked per week as a proxy for experience, we will use these variable to explain how predicted income may change with these variables. Marital status may be somewhat connected to age so using this variable with an interaction term may help to make the predictions better. Finally education level is how we will judge 'time invested' into an industry. This question is focused on prediction to see if we are able to accurately predict the income based on our given explanatory variables. "
   ]
  }
 ],
 "metadata": {
  "kernelspec": {
   "display_name": "R",
   "language": "R",
   "name": "ir"
  },
  "language_info": {
   "codemirror_mode": "r",
   "file_extension": ".r",
   "mimetype": "text/x-r-source",
   "name": "R",
   "pygments_lexer": "r",
   "version": "4.3.1"
  }
 },
 "nbformat": 4,
 "nbformat_minor": 5
}
